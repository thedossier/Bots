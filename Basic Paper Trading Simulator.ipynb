{
 "cells": [
  {
   "cell_type": "code",
   "execution_count": null,
   "id": "89f4173d-e993-45af-9ff0-8744acb6b820",
   "metadata": {},
   "outputs": [],
   "source": [
    "pip install TA-Lib"
   ]
  },
  {
   "cell_type": "code",
   "execution_count": null,
   "id": "c23bec4d-dbaa-45c3-bd28-8397ebf679b7",
   "metadata": {},
   "outputs": [],
   "source": [
    "import websocket, numpy as np, json\n",
    "from talib import abstract"
   ]
  },
  {
   "cell_type": "code",
   "execution_count": null,
   "id": "5332d5a1-f738-40b0-a680-cda729c0d4fb",
   "metadata": {},
   "outputs": [],
   "source": [
    "cc = 'btcusd'\n",
    "interval = '1m'\n",
    "socket = f'wss://stream.binance.com:9443/ws/{cc}/t@kline_{interval}'"
   ]
  },
  {
   "cell_type": "code",
   "execution_count": null,
   "id": "ecc222b4-c3c9-41c6-a2ec-56d3c2161c28",
   "metadata": {},
   "outputs": [],
   "source": [
    "amount = 1000\n",
    "core_trade_amount = amount*0.9\n",
    "core_quantity = 0\n",
    "trade_amount = amount*0.1\n",
    "core_to_trade = True\n",
    "transaction_cost = 0.005\n",
    "min_trade_amt = 30\n",
    "\n",
    "portfolio = 0\n",
    "investment, real_time_portfolio_value, closes, highs, lows, opens, volumes = [], [], [], [], [], [], []\n",
    "money_end = amount\n",
    "candles = [opens, highs, lows, closes, volumes]"
   ]
  },
  {
   "cell_type": "code",
   "execution_count": null,
   "id": "6037baf1-6d22-4690-9fb3-fe1f423ebbec",
   "metadata": {},
   "outputs": [],
   "source": [
    "def buy(quantity, price):\n",
    "    global portfolio, money_end\n",
    "    allocated_money = quantity * price\n",
    "    money_end = money_end - allocated_money - transaction_cost * allocated_money\n",
    "    portfolio += quantity\n",
    "    if investment == []:\n",
    "        investment.append(allocated_money)\n",
    "    else:\n",
    "        investment.append(allocated_money)\n",
    "        investment[-1] += investment[-2]"
   ]
  },
  {
   "cell_type": "code",
   "execution_count": null,
   "id": "44e30d6c-eae7-4c34-8a9a-859988e7d96c",
   "metadata": {},
   "outputs": [],
   "source": [
    "def sell(quantity, price):\n",
    "    global portfolio, money_end\n",
    "    allocated_money = quantity * price\n",
    "    money_end = money_end + allocated_money - transaction_cost * allocated_money\n",
    "    portfolio -= quantity\n",
    "    investment.append(-allocated_money)\n",
    "    investment[-1] += investment[-2]"
   ]
  },
  {
   "cell_type": "code",
   "execution_count": null,
   "id": "79128f0c-b532-4d7b-9528-d4549ca4ce55",
   "metadata": {},
   "outputs": [],
   "source": [
    "import inspect\n",
    "\n",
    "f = abstract"
   ]
  },
  {
   "cell_type": "code",
   "execution_count": null,
   "id": "9607e275-a4e7-4c58-af05-5b5474d7ab08",
   "metadata": {},
   "outputs": [],
   "source": [
    "dir1 = dir(f)"
   ]
  },
  {
   "cell_type": "code",
   "execution_count": null,
   "id": "bd815e59-06f1-4cf8-8efa-0371b2b6808c",
   "metadata": {},
   "outputs": [],
   "source": [
    "public_method_names = [method for method in dir1 if method.startswith('CDL')]"
   ]
  },
  {
   "cell_type": "code",
   "execution_count": null,
   "id": "e13372e1-8d73-4853-9f79-8b2c559f3700",
   "metadata": {},
   "outputs": [],
   "source": [
    "def on_message(ws, message):\n",
    "    global portfolio, investment, closes, highs, lows, money_end, core_to_trade, core_quantity, real_time_portfolio_value\n",
    "    json_message = json.loads(message)\n",
    "    cs = json_message['k']\n",
    "    candle_closed, close, high, low, open, volume = cs['x'], cs['c'], cs['h'], cs['l'],cs['o'], cs['v']\n",
    "    candle = [open, high, low, close, volume]\n",
    "    if candle_closed:\n",
    "        for i in candles:\n",
    "            i.append(float(candle[candles.index(i)]))\n",
    "        print(f'Closes: {closes}')\n",
    "        inputs = {\n",
    "    'open': np.array(opens),\n",
    "    'high': np.array(highs),\n",
    "    'low': np.array(lows),\n",
    "    'close': np.array(closes),\n",
    "    'volume': np.array(volumes)\n",
    "}\n",
    "        if core_to_trade:\n",
    "            buy(core_trade_amount, closes[-1])\n",
    "            print(f'Core Investment: We bought ${core_trade_amount} worth of Bitcoin', '\\n')\n",
    "            core_quantity += core_trade_amount / closes[-1]\n",
    "            core_to_trade = False\n",
    "            \n",
    "        indicators = []\n",
    "        for method in public_method_names:\n",
    "            indicator = getattr(f, method)(inputs)\n",
    "            indicators.append(indicator[-1])\n",
    "        av_indicator = np.mean(indicators)\n",
    "        print(av_indicator)\n",
    "        \n",
    "        if av_indicator >= 10:\n",
    "            amt = trade_amount\n",
    "        elif av_indicator <= -10:\n",
    "            amt = trade_amount\n",
    "        else:\n",
    "            amt = av_indicator*10\n",
    "        \n",
    "        port_value = portfolio*closes[-1] - core_quantity*closes[-1]\n",
    "        trade_amt = amt - port_value\n",
    "        RT_portfolio_value = money_end + portfolio*closes[-1]\n",
    "        real_time_portfolio_value.append(float(RT_portfolio_value))\n",
    "        print(f'Average of all indicators is \"{av_indicator}\" and recommended exposure is \"${amt\"'}\n",
    "        print(f'Real-Time Portfolio Value: {RT_portfolio_value}','\\n')\n",
    "        print(f'Invested amount: ${portfolio*closes[-1]}')\n",
    "\n",
    "        if trade_amt > min_trade_amt:\n",
    "            buy(trade_amt, closes[-1])\n",
    "            print(f'We bought ${trade_amt} worth of Bitcoin','\\n','\\n')\n",
    "        elif trade_amt < min_trade_amt:\n",
    "            sell(-trade_amt, closes[-1])\n",
    "            print(f'We sold ${-trade_amt} worth of Bitcoin','\\n','\\n')\n",
    "            \n",
    "ws = websocket.WebSocketApp(socket, on_message=on_message)"
   ]
  },
  {
   "cell_type": "code",
   "execution_count": null,
   "id": "f23a3380-4ed4-4724-8c53-48d93e27659a",
   "metadata": {},
   "outputs": [],
   "source": [
    "ws.run_forever()"
   ]
  },
  {
   "cell_type": "code",
   "execution_count": null,
   "id": "ebf041c8-3502-460b-84d5-3d23a7e5291a",
   "metadata": {},
   "outputs": [],
   "source": []
  },
  {
   "cell_type": "code",
   "execution_count": null,
   "id": "a0b17c09-0e5c-4260-b553-3b630f3f0717",
   "metadata": {},
   "outputs": [],
   "source": []
  }
 ],
 "metadata": {
  "kernelspec": {
   "display_name": "Python 3 (ipykernel)",
   "language": "python",
   "name": "python3"
  },
  "language_info": {
   "codemirror_mode": {
    "name": "ipython",
    "version": 3
   },
   "file_extension": ".py",
   "mimetype": "text/x-python",
   "name": "python",
   "nbconvert_exporter": "python",
   "pygments_lexer": "ipython3",
   "version": "3.10.2"
  }
 },
 "nbformat": 4,
 "nbformat_minor": 5
}
