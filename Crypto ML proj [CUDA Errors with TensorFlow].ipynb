{
 "cells": [
  {
   "cell_type": "code",
   "execution_count": 8,
   "id": "0e8c3076-e6cd-4940-a017-e03082be580c",
   "metadata": {},
   "outputs": [],
   "source": [
    "# https://www.youtube.com/watch?v=QIUxPv5PJOY\n",
    "import math\n",
    "import datetime as dt\n",
    "import pandas_datareader as web\n",
    "import numpy as np\n",
    "import pandas as pd\n",
    "from sklearn.preprocessing import MinMaxScaler\n",
    "from keras.models import Sequential\n",
    "from keras.layers import Dense, LSTM\n",
    "import matplotlib.pyplot as plt\n",
    "plt.style.use('fivethirtyeight')"
   ]
  },
  {
   "cell_type": "code",
   "execution_count": 12,
   "id": "3a8831cd-7165-44e4-831c-27cf17dba0eb",
   "metadata": {},
   "outputs": [
    {
     "data": {
      "text/html": [
       "<div>\n",
       "<style scoped>\n",
       "    .dataframe tbody tr th:only-of-type {\n",
       "        vertical-align: middle;\n",
       "    }\n",
       "\n",
       "    .dataframe tbody tr th {\n",
       "        vertical-align: top;\n",
       "    }\n",
       "\n",
       "    .dataframe thead th {\n",
       "        text-align: right;\n",
       "    }\n",
       "</style>\n",
       "<table border=\"1\" class=\"dataframe\">\n",
       "  <thead>\n",
       "    <tr style=\"text-align: right;\">\n",
       "      <th></th>\n",
       "      <th>High</th>\n",
       "      <th>Low</th>\n",
       "      <th>Open</th>\n",
       "      <th>Close</th>\n",
       "      <th>Volume</th>\n",
       "      <th>Adj Close</th>\n",
       "    </tr>\n",
       "    <tr>\n",
       "      <th>Date</th>\n",
       "      <th></th>\n",
       "      <th></th>\n",
       "      <th></th>\n",
       "      <th></th>\n",
       "      <th></th>\n",
       "      <th></th>\n",
       "    </tr>\n",
       "  </thead>\n",
       "  <tbody>\n",
       "    <tr>\n",
       "      <th>2014-09-17</th>\n",
       "      <td>468.174011</td>\n",
       "      <td>452.421997</td>\n",
       "      <td>465.864014</td>\n",
       "      <td>457.334015</td>\n",
       "      <td>21056800</td>\n",
       "      <td>457.334015</td>\n",
       "    </tr>\n",
       "    <tr>\n",
       "      <th>2014-09-18</th>\n",
       "      <td>456.859985</td>\n",
       "      <td>413.104004</td>\n",
       "      <td>456.859985</td>\n",
       "      <td>424.440002</td>\n",
       "      <td>34483200</td>\n",
       "      <td>424.440002</td>\n",
       "    </tr>\n",
       "    <tr>\n",
       "      <th>2014-09-19</th>\n",
       "      <td>427.834991</td>\n",
       "      <td>384.532013</td>\n",
       "      <td>424.102997</td>\n",
       "      <td>394.795990</td>\n",
       "      <td>37919700</td>\n",
       "      <td>394.795990</td>\n",
       "    </tr>\n",
       "    <tr>\n",
       "      <th>2014-09-20</th>\n",
       "      <td>423.295990</td>\n",
       "      <td>389.882996</td>\n",
       "      <td>394.673004</td>\n",
       "      <td>408.903992</td>\n",
       "      <td>36863600</td>\n",
       "      <td>408.903992</td>\n",
       "    </tr>\n",
       "    <tr>\n",
       "      <th>2014-09-21</th>\n",
       "      <td>412.425995</td>\n",
       "      <td>393.181000</td>\n",
       "      <td>408.084991</td>\n",
       "      <td>398.821014</td>\n",
       "      <td>26580100</td>\n",
       "      <td>398.821014</td>\n",
       "    </tr>\n",
       "    <tr>\n",
       "      <th>...</th>\n",
       "      <td>...</td>\n",
       "      <td>...</td>\n",
       "      <td>...</td>\n",
       "      <td>...</td>\n",
       "      <td>...</td>\n",
       "      <td>...</td>\n",
       "    </tr>\n",
       "    <tr>\n",
       "      <th>2022-02-06</th>\n",
       "      <td>42500.785156</td>\n",
       "      <td>41244.906250</td>\n",
       "      <td>41441.121094</td>\n",
       "      <td>42412.433594</td>\n",
       "      <td>16142097334</td>\n",
       "      <td>42412.433594</td>\n",
       "    </tr>\n",
       "    <tr>\n",
       "      <th>2022-02-07</th>\n",
       "      <td>44401.863281</td>\n",
       "      <td>41748.156250</td>\n",
       "      <td>42406.781250</td>\n",
       "      <td>43840.285156</td>\n",
       "      <td>28641855926</td>\n",
       "      <td>43840.285156</td>\n",
       "    </tr>\n",
       "    <tr>\n",
       "      <th>2022-02-08</th>\n",
       "      <td>45293.867188</td>\n",
       "      <td>42807.835938</td>\n",
       "      <td>43854.652344</td>\n",
       "      <td>44118.445312</td>\n",
       "      <td>33079398868</td>\n",
       "      <td>44118.445312</td>\n",
       "    </tr>\n",
       "    <tr>\n",
       "      <th>2022-02-09</th>\n",
       "      <td>44727.800781</td>\n",
       "      <td>43232.968750</td>\n",
       "      <td>44096.703125</td>\n",
       "      <td>44338.796875</td>\n",
       "      <td>23245887300</td>\n",
       "      <td>44338.796875</td>\n",
       "    </tr>\n",
       "    <tr>\n",
       "      <th>2022-02-10</th>\n",
       "      <td>45394.617188</td>\n",
       "      <td>43402.808594</td>\n",
       "      <td>44315.921875</td>\n",
       "      <td>44922.421875</td>\n",
       "      <td>30731073536</td>\n",
       "      <td>44922.421875</td>\n",
       "    </tr>\n",
       "  </tbody>\n",
       "</table>\n",
       "<p>2704 rows × 6 columns</p>\n",
       "</div>"
      ],
      "text/plain": [
       "                    High           Low          Open         Close  \\\n",
       "Date                                                                 \n",
       "2014-09-17    468.174011    452.421997    465.864014    457.334015   \n",
       "2014-09-18    456.859985    413.104004    456.859985    424.440002   \n",
       "2014-09-19    427.834991    384.532013    424.102997    394.795990   \n",
       "2014-09-20    423.295990    389.882996    394.673004    408.903992   \n",
       "2014-09-21    412.425995    393.181000    408.084991    398.821014   \n",
       "...                  ...           ...           ...           ...   \n",
       "2022-02-06  42500.785156  41244.906250  41441.121094  42412.433594   \n",
       "2022-02-07  44401.863281  41748.156250  42406.781250  43840.285156   \n",
       "2022-02-08  45293.867188  42807.835938  43854.652344  44118.445312   \n",
       "2022-02-09  44727.800781  43232.968750  44096.703125  44338.796875   \n",
       "2022-02-10  45394.617188  43402.808594  44315.921875  44922.421875   \n",
       "\n",
       "                 Volume     Adj Close  \n",
       "Date                                   \n",
       "2014-09-17     21056800    457.334015  \n",
       "2014-09-18     34483200    424.440002  \n",
       "2014-09-19     37919700    394.795990  \n",
       "2014-09-20     36863600    408.903992  \n",
       "2014-09-21     26580100    398.821014  \n",
       "...                 ...           ...  \n",
       "2022-02-06  16142097334  42412.433594  \n",
       "2022-02-07  28641855926  43840.285156  \n",
       "2022-02-08  33079398868  44118.445312  \n",
       "2022-02-09  23245887300  44338.796875  \n",
       "2022-02-10  30731073536  44922.421875  \n",
       "\n",
       "[2704 rows x 6 columns]"
      ]
     },
     "execution_count": 12,
     "metadata": {},
     "output_type": "execute_result"
    }
   ],
   "source": [
    "start = dt.datetime(2010,1,1)\n",
    "end = dt.datetime.now()\n",
    "\n",
    "#Get the stock quote\n",
    "df = web.DataReader('BTC-USD', data_source='yahoo', start = start, end = end)\n",
    "df"
   ]
  },
  {
   "cell_type": "code",
   "execution_count": 13,
   "id": "95ff94ec-7774-4cb7-8aa6-77bc373ab3ff",
   "metadata": {},
   "outputs": [
    {
     "data": {
      "text/plain": [
       "(2704, 6)"
      ]
     },
     "execution_count": 13,
     "metadata": {},
     "output_type": "execute_result"
    }
   ],
   "source": [
    "# Get the number of rows and columns in the dataset\n",
    "df.shape"
   ]
  },
  {
   "cell_type": "code",
   "execution_count": 15,
   "id": "2c3874c8-48a6-4cb4-a102-51aee1299661",
   "metadata": {},
   "outputs": [
    {
     "data": {
      "image/png": "[encoded data removed]",
      "text/plain": [
       "<Figure size 1152x576 with 1 Axes>"
      ]
     },
     "metadata": {},
     "output_type": "display_data"
    }
   ],
   "source": [
    "#Visualize the closing price history\n",
    "plt.figure(figsize=(16,8))\n",
    "plt.title('Close Price History')\n",
    "plt.plot(df['Close'])\n",
    "plt.xlabel('Date', fontsize=18)\n",
    "plt.ylabel('Close Price USD($)', fontsize=18)\n",
    "plt.show()"
   ]
  },
  {
   "cell_type": "code",
   "execution_count": 16,
   "id": "0091388d-fdfd-4a0f-9d80-540a1e5c5d4e",
   "metadata": {},
   "outputs": [
    {
     "name": "stdout",
     "output_type": "stream",
     "text": [
      "2164\n"
     ]
    }
   ],
   "source": [
    "# Create a new DataFrame with only the close column\n",
    "data_close = df.filter (['Close'])\n",
    "\n",
    "#Convert the DataFrame to a numpy array\n",
    "\n",
    "dataset = data_close.values\n",
    "\n",
    "#Get number of rows to train the model on\n",
    "\n",
    "training_data_len = math.ceil( len(dataset) * .8 )\n",
    "print(training_data_len)"
   ]
  },
  {
   "cell_type": "code",
   "execution_count": 18,
   "id": "bca655a7-25d3-49c1-a21e-0e8884e0f123",
   "metadata": {},
   "outputs": [
    {
     "data": {
      "text/plain": [
       "array([[0.00414359],\n",
       "       [0.00365546],\n",
       "       [0.00321557],\n",
       "       ...,\n",
       "       [0.65204294],\n",
       "       [0.6553128 ],\n",
       "       [0.66397337]])"
      ]
     },
     "execution_count": 18,
     "metadata": {},
     "output_type": "execute_result"
    }
   ],
   "source": [
    "# Scale the data - best practice to preprocess\n",
    "scaler = MinMaxScaler(feature_range=(0,1))\n",
    "scaled_data = scaler.fit_transform(dataset) \n",
    "\n",
    "scaled_data"
   ]
  },
  {
   "cell_type": "code",
   "execution_count": 20,
   "id": "2068d5cc-b0f0-44aa-af53-01bc62baedc2",
   "metadata": {},
   "outputs": [
    {
     "name": "stdout",
     "output_type": "stream",
     "text": [
      "[array([0.00414359, 0.00365546, 0.00321557, 0.00342492, 0.0032753 ,\n",
      "       0.00332473, 0.0038239 , 0.00363714, 0.00346454, 0.00335845,\n",
      "       0.00328567, 0.00295417, 0.00292874, 0.00309905, 0.00304965,\n",
      "       0.00292288, 0.00269198, 0.00223721, 0.00211322, 0.00225521,\n",
      "       0.00234585, 0.00259445, 0.0027738 , 0.0027224 , 0.00273334,\n",
      "       0.00297447, 0.00315054, 0.0033057 , 0.00321523, 0.00303393,\n",
      "       0.00305177, 0.0031658 , 0.00313766, 0.00303822, 0.00309209,\n",
      "       0.00304287, 0.00267573, 0.00267466, 0.00251033, 0.00262063,\n",
      "       0.00259518, 0.00266387, 0.00233701, 0.00248116, 0.00237752,\n",
      "       0.00219096, 0.00219308, 0.00221774, 0.00226134, 0.00239481,\n",
      "       0.00254029, 0.00243827, 0.00248387, 0.00274766, 0.00280197,\n",
      "       0.00281341, 0.00364242, 0.00360048, 0.00326041, 0.00293862])]\n",
      "[0.0031129686946921404]\n",
      "\n"
     ]
    }
   ],
   "source": [
    "# Create the training data set\n",
    "train_data = scaled_data[0:training_data_len , :]\n",
    "# Split the data into x_train and y_train data sets\n",
    "x_train = [] # Independant variables\n",
    "y_train = [] #Dependant variables\n",
    "\n",
    "for i in range(60, len(train_data)):\n",
    "    x_train.append(train_data[i-60:i, 0]) #Contain 60 falues from position 0 to 59\n",
    "    y_train.append(train_data[i, 0]) # contain the 61st value at position 60\n",
    "    if i<= 60:\n",
    "        print(x_train)\n",
    "        print(y_train)\n",
    "        print()\n",
    "    "
   ]
  },
  {
   "cell_type": "code",
   "execution_count": 21,
   "id": "e362257d-b7e1-4e6a-b44b-2f532d1b86f3",
   "metadata": {},
   "outputs": [],
   "source": [
    "#Convert the X_train and the y_train data sets to numpy arrays\n",
    "x_train, y_train = np.array(x_train), np.array(y_train)"
   ]
  },
  {
   "cell_type": "code",
   "execution_count": 22,
   "id": "44541050-d1b2-46c0-b3c8-97d5f6f8a640",
   "metadata": {},
   "outputs": [
    {
     "data": {
      "text/plain": [
       "(2104, 60)"
      ]
     },
     "execution_count": 22,
     "metadata": {},
     "output_type": "execute_result"
    }
   ],
   "source": [
    "#Reshape the x_train data: LSTM expects the inputs to be 3D\n",
    "x_train.shape"
   ]
  },
  {
   "cell_type": "code",
   "execution_count": 23,
   "id": "cfd41c1c-46a8-4420-970e-00c88debb7d7",
   "metadata": {},
   "outputs": [],
   "source": [
    "x_train = np.reshape(x_train, (x_train.shape[0], x_train.shape[1], 1))"
   ]
  },
  {
   "cell_type": "code",
   "execution_count": 24,
   "id": "ee192cb2-d580-4062-8c7e-821ec3c018dc",
   "metadata": {},
   "outputs": [
    {
     "data": {
      "text/plain": [
       "(2104, 60, 1)"
      ]
     },
     "execution_count": 24,
     "metadata": {},
     "output_type": "execute_result"
    }
   ],
   "source": [
    "x_train.shape"
   ]
  },
  {
   "cell_type": "code",
   "execution_count": 25,
   "id": "9bedf54a-3dd0-4f5a-b500-d26b20ed0f27",
   "metadata": {},
   "outputs": [
    {
     "name": "stderr",
     "output_type": "stream",
     "text": [
      "2022-02-10 11:19:28.971608: W tensorflow/stream_executor/platform/default/dso_loader.cc:64] Could not load dynamic library 'libcuda.so.1'; dlerror: libcuda.so.1: cannot open shared object file: No such file or directory\n",
      "2022-02-10 11:19:28.971633: W tensorflow/stream_executor/cuda/cuda_driver.cc:269] failed call to cuInit: UNKNOWN ERROR (303)\n",
      "2022-02-10 11:19:28.971652: I tensorflow/stream_executor/cuda/cuda_diagnostics.cc:156] kernel driver does not appear to be running on this host (thedossier): /proc/driver/nvidia/version does not exist\n",
      "2022-02-10 11:19:28.971822: I tensorflow/core/platform/cpu_feature_guard.cc:151] This TensorFlow binary is optimized with oneAPI Deep Neural Network Library (oneDNN) to use the following CPU instructions in performance-critical operations:  AVX2 FMA\n",
      "To enable them in other operations, rebuild TensorFlow with the appropriate compiler flags.\n"
     ]
    }
   ],
   "source": [
    "#Build the LSTM model\n",
    "model = Sequential()\n",
    "model.add(LSTM(50, return_sequences=True, input_shape = (x_train.shape[1],1)))\n",
    "model.add(LSTM(50, return_sequences=False))\n",
    "model.add(Dense(25))\n",
    "model.add(Dense(1))"
   ]
  },
  {
   "cell_type": "code",
   "execution_count": null,
   "id": "ccf6e618-130b-4600-80a5-fc3d7cb6af02",
   "metadata": {},
   "outputs": [],
   "source": []
  }
 ],
 "metadata": {
  "kernelspec": {
   "display_name": "Python 3 (ipykernel)",
   "language": "python",
   "name": "python3"
  },
  "language_info": {
   "codemirror_mode": {
    "name": "ipython",
    "version": 3
   },
   "file_extension": ".py",
   "mimetype": "text/x-python",
   "name": "python",
   "nbconvert_exporter": "python",
   "pygments_lexer": "ipython3",
   "version": "3.10.2"
  }
 },
 "nbformat": 4,
 "nbformat_minor": 5
}
