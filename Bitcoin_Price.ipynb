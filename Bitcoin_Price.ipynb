{
 "cells": [
  {
   "cell_type": "code",
   "execution_count": 29,
   "id": "6f47b8f5-4b90-4ba6-8fa4-dd0cb0031511",
   "metadata": {},
   "outputs": [
    {
     "name": "stdout",
     "output_type": "stream",
     "text": [
      "Defaulting to user installation because normal site-packages is not writeable\n",
      "Requirement already satisfied: pycoingecko in /home/thedossier/.local/lib/python3.10/site-packages (2.2.0)\n",
      "Requirement already satisfied: requests in /usr/lib/python3.10/site-packages (from pycoingecko) (2.26.0)\n",
      "Requirement already satisfied: chardet>=3.0.2 in /usr/lib/python3.10/site-packages (from requests->pycoingecko) (4.0.0)\n",
      "Requirement already satisfied: idna>=2.5 in /usr/lib/python3.10/site-packages (from requests->pycoingecko) (3.3)\n",
      "Requirement already satisfied: urllib3>=1.21.1 in /usr/lib/python3.10/site-packages (from requests->pycoingecko) (1.26.7)\n",
      "Defaulting to user installation because normal site-packages is not writeable\n",
      "Requirement already satisfied: plotly in /home/thedossier/.local/lib/python3.10/site-packages (5.5.0)\n",
      "Requirement already satisfied: six in /usr/lib/python3.10/site-packages (from plotly) (1.16.0)\n",
      "Requirement already satisfied: tenacity>=6.2.0 in /home/thedossier/.local/lib/python3.10/site-packages (from plotly) (8.0.1)\n",
      "Defaulting to user installation because normal site-packages is not writeable\n",
      "Requirement already satisfied: mplfinance in /home/thedossier/.local/lib/python3.10/site-packages (0.12.8b6)\n",
      "Requirement already satisfied: matplotlib in /home/thedossier/.local/lib/python3.10/site-packages (from mplfinance) (3.5.1)\n",
      "Requirement already satisfied: pandas in /usr/lib/python3.10/site-packages (from mplfinance) (1.3.5)\n",
      "Requirement already satisfied: pillow>=6.2.0 in /home/thedossier/.local/lib/python3.10/site-packages (from matplotlib->mplfinance) (8.4.0)\n",
      "Requirement already satisfied: python-dateutil>=2.7 in /usr/lib/python3.10/site-packages (from matplotlib->mplfinance) (2.8.2)\n",
      "Requirement already satisfied: packaging>=20.0 in /usr/lib/python3.10/site-packages (from matplotlib->mplfinance) (20.9)\n",
      "Requirement already satisfied: fonttools>=4.22.0 in /home/thedossier/.local/lib/python3.10/site-packages (from matplotlib->mplfinance) (4.28.5)\n",
      "Requirement already satisfied: kiwisolver>=1.0.1 in /home/thedossier/.local/lib/python3.10/site-packages (from matplotlib->mplfinance) (1.3.2)\n",
      "Requirement already satisfied: numpy>=1.17 in /usr/lib/python3.10/site-packages (from matplotlib->mplfinance) (1.21.5)\n",
      "Requirement already satisfied: pyparsing>=2.2.1 in /usr/lib/python3.10/site-packages (from matplotlib->mplfinance) (2.4.7)\n",
      "Requirement already satisfied: cycler>=0.10 in /home/thedossier/.local/lib/python3.10/site-packages (from matplotlib->mplfinance) (0.11.0)\n",
      "Requirement already satisfied: six>=1.5 in /usr/lib/python3.10/site-packages (from python-dateutil>=2.7->matplotlib->mplfinance) (1.16.0)\n",
      "Requirement already satisfied: pytz>=2017.3 in /usr/lib/python3.10/site-packages (from pandas->mplfinance) (2021.3)\n"
     ]
    }
   ],
   "source": [
    "!pip install pycoingecko\n",
    "!pip install plotly\n",
    "!pip install mplfinance"
   ]
  },
  {
   "cell_type": "markdown",
   "id": "06e95af1-71d2-4438-ad85-5e84ac7d0fb3",
   "metadata": {},
   "source": [
    "We will be using the <a href=https://www.coingecko.com/en/api?utm_medium=Exinfluencer&utm_source=Exinfluencer&utm_content=000026UJ&utm_term=10006555&utm_id=NA-SkillsNetwork-Channel-SkillsNetworkCoursesIBMDeveloperSkillsNetworkPY0101ENSkillsNetwork19487395-2021-01-01>CoinGecko API to create one of these candlestick graphs for Bitcoin. We will use the API to get the price data for 30 days with 24 observation per day, 1 per hour. We will find the max, min, open, and close price per day meaning we will have 30 candlesticks and use that to generate the candlestick graph. Although we are using the CoinGecko API we will use a Python client/wrapper for the API called <a href=https://github.com/man-c/pycoingecko?utm_medium=Exinfluencer&utm_source=Exinfluencer&utm_content=000026UJ&utm_term=10006555&utm_id=NA-SkillsNetwork-Channel-SkillsNetworkCoursesIBMDeveloperSkillsNetworkPY0101ENSkillsNetwork19487395-2021-01-01>PyCoinGecko. PyCoinGecko will make performing the requests easy and it will deal with the enpoint targeting."
   ]
  },
  {
   "cell_type": "code",
   "execution_count": 30,
   "id": "cb8a955b-e8e5-4f2b-a2b6-7e6746cc9476",
   "metadata": {},
   "outputs": [],
   "source": [
    "import pandas as pd\n",
    "import numpy as np\n",
    "import plotly.graph_objects as go\n",
    "from plotly.offline import plot\n",
    "import matplotlib.pyplot as plt\n",
    "import datetime\n",
    "from pycoingecko import CoinGeckoAPI\n",
    "from mplfinance.original_flavor import candlestick2_ohlc"
   ]
  },
  {
   "cell_type": "code",
   "execution_count": 31,
   "id": "f5bdc5c8-71d9-4736-afef-26a00b06ae91",
   "metadata": {},
   "outputs": [],
   "source": [
    "import plotly.io as pio\n",
    "pio.renderers.default='iframe'"
   ]
  },
  {
   "cell_type": "code",
   "execution_count": 32,
   "id": "7255a05c-6f28-4479-8e92-e03524aaec23",
   "metadata": {},
   "outputs": [],
   "source": [
    "cg = CoinGeckoAPI()\n",
    "\n",
    "bitcoin_data = cg.get_coin_market_chart_by_id(id='bitcoin', vs_currency='usd', days=30)"
   ]
  },
  {
   "cell_type": "code",
   "execution_count": 33,
   "id": "a09477bb-9f66-487c-af83-c1635298edab",
   "metadata": {},
   "outputs": [
    {
     "data": {
      "text/plain": [
       "dict"
      ]
     },
     "execution_count": 33,
     "metadata": {},
     "output_type": "execute_result"
    }
   ],
   "source": [
    "type(bitcoin_data )"
   ]
  },
  {
   "cell_type": "markdown",
   "id": "839bca61-fc3a-44d9-b6d3-4f0b71c79098",
   "metadata": {},
   "source": [
    "The response we get is in the form of a JSON which includes the price, market caps, and total volumes along with timestamps for each observation. We are focused on the prices so we will select that data."
   ]
  },
  {
   "cell_type": "code",
   "execution_count": 34,
   "id": "ecba8e1d-3f86-4e51-937e-89b7f232ba2f",
   "metadata": {},
   "outputs": [
    {
     "data": {
      "text/plain": [
       "[[1638921797080, 50647.66340635755],\n",
       " [1638925346228, 50850.9701578198],\n",
       " [1638929015834, 50418.437320565754],\n",
       " [1638932558460, 50551.58899865365],\n",
       " [1638936094249, 50133.94726816138]]"
      ]
     },
     "execution_count": 34,
     "metadata": {},
     "output_type": "execute_result"
    }
   ],
   "source": [
    "bitcoin_price_data = bitcoin_data['prices']\n",
    "\n",
    "bitcoin_price_data[0:5]"
   ]
  },
  {
   "cell_type": "code",
   "execution_count": 35,
   "id": "7d692c44-43f6-45be-a1a0-554a87c555c5",
   "metadata": {},
   "outputs": [],
   "source": [
    "data = pd.DataFrame(bitcoin_price_data, columns=['TimeStamp', 'Price'])"
   ]
  },
  {
   "cell_type": "markdown",
   "id": "c5d0cc59-5532-43af-a4bf-49b4485bc34a",
   "metadata": {},
   "source": [
    "Now that we have the DataFrame we will convert the timestamp to datetime and save it as a column called Date. We will map our unix_to_datetime to each timestamp and convert it to a readable datetime.\n"
   ]
  },
  {
   "cell_type": "code",
   "execution_count": 36,
   "id": "594fa4b3-34f6-40db-ab53-136b893a3356",
   "metadata": {},
   "outputs": [],
   "source": [
    "data['date'] = data['TimeStamp'].apply(lambda d: datetime.date.fromtimestamp(d/1000.0))\n"
   ]
  },
  {
   "cell_type": "markdown",
   "id": "05954ec7-54d8-4ef5-a3fc-9b24c1098dec",
   "metadata": {},
   "source": [
    "Using this modified dataset we can now group by the Date and find the min, max, open, and close for the candlesticks."
   ]
  },
  {
   "cell_type": "code",
   "execution_count": 37,
   "id": "c4f067ed-69ca-4aec-824f-eeecd9b78302",
   "metadata": {},
   "outputs": [],
   "source": [
    "candlestick_data = data.groupby(data.date, as_index=False).agg({\"Price\": ['min', 'max', 'first', 'last']})"
   ]
  },
  {
   "cell_type": "markdown",
   "id": "3b890b71-64af-4a43-95a1-928db2a16c31",
   "metadata": {},
   "source": [
    "Finally we are now ready to use plotly to create our Candlestick Chart.\n"
   ]
  },
  {
   "cell_type": "code",
   "execution_count": 38,
   "id": "6c564318-3a09-4152-a28d-21288a5ec467",
   "metadata": {},
   "outputs": [
    {
     "data": {
      "text/html": [
       "<iframe\n",
       "    scrolling=\"no\"\n",
       "    width=\"100%\"\n",
       "    height=\"545px\"\n",
       "    src=\"iframe_figures/figure_6.html\"\n",
       "    frameborder=\"0\"\n",
       "    allowfullscreen\n",
       "></iframe>\n"
      ]
     },
     "metadata": {},
     "output_type": "display_data"
    }
   ],
   "source": [
    "fig = go.Figure(data=[go.Candlestick(x=candlestick_data['date'],\n",
    "                open=candlestick_data['Price']['first'], \n",
    "                high=candlestick_data['Price']['max'],\n",
    "                low=candlestick_data['Price']['min'], \n",
    "                close=candlestick_data['Price']['last'])\n",
    "                ])\n",
    "\n",
    "fig.update_layout(xaxis_rangeslider_visible=False)\n",
    "\n",
    "fig.show()"
   ]
  },
  {
   "cell_type": "code",
   "execution_count": null,
   "id": "2e0c6d6a-6c67-4b99-b3f6-7e207065154c",
   "metadata": {},
   "outputs": [],
   "source": []
  }
 ],
 "metadata": {
  "kernelspec": {
   "display_name": "Python 3 (ipykernel)",
   "language": "python",
   "name": "python3"
  },
  "language_info": {
   "codemirror_mode": {
    "name": "ipython",
    "version": 3
   },
   "file_extension": ".py",
   "mimetype": "text/x-python",
   "name": "python",
   "nbconvert_exporter": "python",
   "pygments_lexer": "ipython3",
   "version": "3.10.2"
  }
 },
 "nbformat": 4,
 "nbformat_minor": 5
}
